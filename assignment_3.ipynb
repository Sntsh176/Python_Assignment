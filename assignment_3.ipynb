{
 "cells": [
  {
   "cell_type": "markdown",
   "metadata": {},
   "source": [
    "# Task 1 : Problem 1\n",
    "\n",
    "Write a function to compute 5/0 and use try/except to catch the exceptions. "
   ]
  },
  {
   "cell_type": "code",
   "execution_count": 10,
   "metadata": {},
   "outputs": [],
   "source": [
    "# Here will define a function and in there will use try except block\n",
    "\n",
    "def try_division(n=5 , d=0):\n",
    "    # here we have taken default value 5 and 0 as ask was 5/0\n",
    "    # now will use try bolck to deal with the exception \n",
    "    try:\n",
    "        result = n / d\n",
    "        print(\"the division result is : \", result)\n",
    "    except:\n",
    "        # in case of exception while division will handle here\n",
    "        print(\"You have tried to divide with zero(0)\")\n",
    "    else:\n",
    "        print(\"The division was successfull , above is the result\")\n",
    "        \n",
    " "
   ]
  },
  {
   "cell_type": "code",
   "execution_count": 11,
   "metadata": {},
   "outputs": [
    {
     "name": "stdout",
     "output_type": "stream",
     "text": [
      "You have tried to divide with zero(0)\n"
     ]
    }
   ],
   "source": [
    "# Let's call the function\n",
    "try_division()   "
   ]
  },
  {
   "cell_type": "code",
   "execution_count": 6,
   "metadata": {},
   "outputs": [
    {
     "name": "stdout",
     "output_type": "stream",
     "text": [
      "the division result is :  6.0\n",
      "The division was successfull , above is the result\n"
     ]
    }
   ],
   "source": [
    "# Let's call the function with some argument\n",
    "\n",
    "try_division(12,2)"
   ]
  },
  {
   "cell_type": "markdown",
   "metadata": {},
   "source": [
    "# Task 1 : Problem 2\n",
    "\n",
    "Implement a Python program to generate all sentences where subject is in [\"Americans\", \"Indians\"] and verb is in [\"Play\", \"watch\"] and the object is in [\"Baseball\",\"cricket\"]. \n",
    " \n",
    "Hint: Subject,Verb and Object should be declared in the program as shown below. \n",
    " \n",
    "subjects=[\"Americans \",\"Indians\"] verbs=[\"play\",\"watch\"] objects=[\"Baseball\",\"Cricket\"] \n",
    " \n",
    "\n",
    "Output should come as below: \n",
    " \n",
    "Americans  play Baseball. \n",
    "\n",
    "Americans  play Cricket. \n",
    "\n",
    "Americans  watch Baseball. \n",
    "\n",
    "Americans  watch Cricket. \n",
    "\n",
    "Indians play Baseball. \n",
    "\n",
    "Indians play Cricket. \n",
    "\n",
    "Indians watch Baseball. \n",
    "\n",
    "Indians watch Cricket. "
   ]
  },
  {
   "cell_type": "code",
   "execution_count": 13,
   "metadata": {},
   "outputs": [
    {
     "name": "stdout",
     "output_type": "stream",
     "text": [
      "Americans Baseball play\n",
      "Americans Baseball watch\n",
      "Americans Cricket play\n",
      "Americans Cricket watch\n",
      "Indians Baseball play\n",
      "Indians Baseball watch\n",
      "Indians Cricket play\n",
      "Indians Cricket watch\n"
     ]
    }
   ],
   "source": [
    "# will dclare the data in the list\n",
    "subjects=[\"Americans\",\"Indians\"]\n",
    "verbs=[\"play\",\"watch\"]\n",
    "objects=[\"Baseball\",\"Cricket\"]\n",
    "\n",
    "# applying the for nested for loop to get the desired output/result\n",
    "\n",
    "for i in subjects:\n",
    "    for j in objects:\n",
    "        for k in verbs:\n",
    "            print(\"{} {} {}\".format(i,j,k))"
   ]
  },
  {
   "cell_type": "markdown",
   "metadata": {},
   "source": [
    "# Task 2 : Problem 1"
   ]
  },
  {
   "cell_type": "markdown",
   "metadata": {},
   "source": [
    "Write a function so that the columns of the output matrix are powers of the input vector.  \n",
    "The order of the powers is determined by the increasing boolean argument. Specifically, when              increasing is False, the i-th output column is the input vector raised element-wise to the power                of N - i - 1.  \n",
    " \n",
    " \n",
    " HINT: Such a matrix with a geometric progression in each row is named for Alexandre               Theophile Vandermonde."
   ]
  },
  {
   "cell_type": "raw",
   "metadata": {},
   "source": [
    "# input would be like \n",
    "[2,4,6,8]\n",
    "\n",
    "# Output would be like\n",
    "[[8,4,2,1]\n",
    "[64,16,4,1]\n",
    "[216,36,6,1]\n",
    "[512,64,8,1]]"
   ]
  },
  {
   "cell_type": "code",
   "execution_count": 28,
   "metadata": {},
   "outputs": [],
   "source": [
    "# defining a function to implement it\n",
    "# we can also apply it directly with below list comprehension\n",
    "\n",
    "def vandermonde(n_list):\n",
    "    # here will implement it and call with diffrent argument to validate the diffrnt results\n",
    "    # range function is with step -1 to get (3,2,1,0) as power to be required\n",
    "    \n",
    "    van = [[i**j for j in range((len(n_list)-1),-1,-1)] for i in n_list] \n",
    "    \n",
    "    return van"
   ]
  },
  {
   "cell_type": "code",
   "execution_count": 29,
   "metadata": {},
   "outputs": [
    {
     "data": {
      "text/plain": [
       "[[8, 4, 2, 1], [64, 16, 4, 1], [216, 36, 6, 1], [512, 64, 8, 1]]"
      ]
     },
     "execution_count": 29,
     "metadata": {},
     "output_type": "execute_result"
    }
   ],
   "source": [
    "vandermonde([2,4,6,8])"
   ]
  },
  {
   "cell_type": "code",
   "execution_count": 32,
   "metadata": {},
   "outputs": [
    {
     "data": {
      "text/plain": [
       "[[81, 27, 9, 3, 1],\n",
       " [81, 27, 9, 3, 1],\n",
       " [256, 64, 16, 4, 1],\n",
       " [16, 8, 4, 2, 1],\n",
       " [625, 125, 25, 5, 1]]"
      ]
     },
     "execution_count": 32,
     "metadata": {},
     "output_type": "execute_result"
    }
   ],
   "source": [
    "vandermonde([3,3,4,2,5])"
   ]
  },
  {
   "cell_type": "code",
   "execution_count": null,
   "metadata": {},
   "outputs": [],
   "source": []
  }
 ],
 "metadata": {
  "kernelspec": {
   "display_name": "Python 3",
   "language": "python",
   "name": "python3"
  },
  "language_info": {
   "codemirror_mode": {
    "name": "ipython",
    "version": 3
   },
   "file_extension": ".py",
   "mimetype": "text/x-python",
   "name": "python",
   "nbconvert_exporter": "python",
   "pygments_lexer": "ipython3",
   "version": "3.7.4"
  }
 },
 "nbformat": 4,
 "nbformat_minor": 2
}
