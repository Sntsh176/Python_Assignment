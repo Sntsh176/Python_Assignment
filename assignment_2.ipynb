{
 "cells": [
  {
   "cell_type": "markdown",
   "metadata": {},
   "source": [
    "# Task 1 : Problem 1.1\n",
    "Write a Python Program to implement your own myreduce() function which works exactly like\n",
    "Python's built-in function reduce()\n"
   ]
  },
  {
   "cell_type": "code",
   "execution_count": 125,
   "metadata": {},
   "outputs": [],
   "source": [
    "# reduce function takes 2 arguments , function and iterable object\n",
    "\n",
    "def myreduce(function_name , obj_iterable):\n",
    "    \"\"\"\n",
    "    this function behave like reduce function\n",
    "    Param / argumnets\n",
    "    function_name : name of the function on which will do operation for the iterable object\n",
    "    obj_iterable : any type of iterable item / generator\n",
    "    \"\"\"\n",
    "   \n",
    "    x = obj_iterable[0]\n",
    "    \n",
    "    for item in obj_iterable[1:]:\n",
    "        x = function_name(x, item)\n",
    "\n",
    "    \n",
    "    return x\n",
    "    "
   ]
  },
  {
   "cell_type": "code",
   "execution_count": 126,
   "metadata": {},
   "outputs": [
    {
     "data": {
      "text/plain": [
       "1"
      ]
     },
     "execution_count": 126,
     "metadata": {},
     "output_type": "execute_result"
    }
   ],
   "source": [
    "myreduce(lambda x,y : x+y ,[1])"
   ]
  },
  {
   "cell_type": "code",
   "execution_count": 127,
   "metadata": {},
   "outputs": [
    {
     "data": {
      "text/plain": [
       "3"
      ]
     },
     "execution_count": 127,
     "metadata": {},
     "output_type": "execute_result"
    }
   ],
   "source": [
    "myreduce(lambda x,y : x+y ,[1,2] )"
   ]
  },
  {
   "cell_type": "code",
   "execution_count": 128,
   "metadata": {},
   "outputs": [
    {
     "data": {
      "text/plain": [
       "24"
      ]
     },
     "execution_count": 128,
     "metadata": {},
     "output_type": "execute_result"
    }
   ],
   "source": [
    "myreduce(lambda x,y : x*y , [1,2,3,4])"
   ]
  },
  {
   "cell_type": "markdown",
   "metadata": {},
   "source": [
    "# Task 1 : Problem 1.2\n",
    "\n",
    "Write a Python program to implement your own myfilter() function which works exactly like\n",
    "Python's built-in function filter()"
   ]
  },
  {
   "cell_type": "code",
   "execution_count": 129,
   "metadata": {},
   "outputs": [],
   "source": [
    "# defining myfilter function which willl bahave like filter built-in function\n",
    "\n",
    "def myfilter(function_name , obj_iterable):\n",
    "    # will store the filtered data into a list and will retunr the same \n",
    "    filter_data = []\n",
    "    \n",
    "    for item in obj_iterable:\n",
    "        # will check each item if it fullfill the filter condition\n",
    "        \n",
    "        if function_name(item):\n",
    "            filter_data.append(item)\n",
    "            \n",
    "    # and finally return the filtered data\n",
    "    return filter_data\n",
    "\n"
   ]
  },
  {
   "cell_type": "code",
   "execution_count": 130,
   "metadata": {},
   "outputs": [
    {
     "data": {
      "text/plain": [
       "[35, 7, 14, 21]"
      ]
     },
     "execution_count": 130,
     "metadata": {},
     "output_type": "execute_result"
    }
   ],
   "source": [
    "# let's filter the multiple of 7 number\n",
    "\n",
    "myfilter(lambda x : x % 7 == 0 , [35,1,2,7,14,21])"
   ]
  },
  {
   "cell_type": "markdown",
   "metadata": {},
   "source": [
    "# Task 1 : Problem 2\n",
    "\n",
    "Implement List comprehensions to produce the following lists.\n",
    "Write List comprehensions to produce the following Lists\n",
    "\n",
    "['A', 'C', 'A', 'D', 'G', 'I', ’L’, ‘ D’]\n",
    "\n",
    "['x', 'xx', 'xxx', 'xxxx', 'y', 'yy', 'yyy', 'yyyy', 'z', 'zz', 'zzz', 'zzzz']\n",
    "\n",
    "['x', 'y', 'z', 'xx', 'yy', 'zz', 'xx', 'yy', 'zz', 'xxxx', 'yyyy', 'zzzz']\n",
    "\n",
    "\n",
    "[[2], [3], [4], [3], [4], [5], [4], [5], [6]]\n",
    "\n",
    "[[2, 3, 4, 5], [3, 4, 5, 6], [4, 5, 6, 7], [5, 6, 7, 8]]\n",
    "\n",
    "[(1, 1), (2, 1), (3, 1), (1, 2), (2, 2), (3, 2), (1, 3), (2, 3), (3, 3)]"
   ]
  },
  {
   "cell_type": "code",
   "execution_count": 131,
   "metadata": {},
   "outputs": [
    {
     "data": {
      "text/plain": [
       "['A', 'C', 'A', 'D', 'G', 'I', 'L', 'D']"
      ]
     },
     "execution_count": 131,
     "metadata": {},
     "output_type": "execute_result"
    }
   ],
   "source": [
    "# printing this ==> ['A', 'C', 'A', 'D', 'G', 'I', ’L’, ‘ D’]\n",
    "\n",
    "string = 'ACADGILD'\n",
    "\n",
    "[letter for letter in string]"
   ]
  },
  {
   "cell_type": "code",
   "execution_count": 132,
   "metadata": {},
   "outputs": [
    {
     "data": {
      "text/plain": [
       "['x', 'xx', 'xxx', 'xxxx', 'y', 'yy', 'yyy', 'yyyy', 'z', 'zz', 'zzz', 'zzzz']"
      ]
     },
     "execution_count": 132,
     "metadata": {},
     "output_type": "execute_result"
    }
   ],
   "source": [
    "# printing this ==>  ['x', 'xx', 'xxx', 'xxxx', 'y', 'yy', 'yyy', 'yyyy', 'z', 'zz', 'zzz', 'zzzz'] \n",
    "\n",
    "string = 'xyz'\n",
    "\n",
    "[mul * char for char in string for mul in range(1,5)]"
   ]
  },
  {
   "cell_type": "code",
   "execution_count": 133,
   "metadata": {},
   "outputs": [
    {
     "data": {
      "text/plain": [
       "['x', 'y', 'z', 'xx', 'yy', 'zz', 'xxx', 'yyy', 'zzz', 'xxxx', 'yyyy', 'zzzz']"
      ]
     },
     "execution_count": 133,
     "metadata": {},
     "output_type": "execute_result"
    }
   ],
   "source": [
    "# printing ==> ['x', 'y', 'z', 'xx', 'yy', 'zz', 'xx', 'yy', 'zz', 'xxxx', 'yyyy', 'zzzz']\n",
    "\n",
    "string = 'xyz'\n",
    "\n",
    "[mul * char for mul in range(1,5) for char in string]"
   ]
  },
  {
   "cell_type": "code",
   "execution_count": 134,
   "metadata": {},
   "outputs": [
    {
     "data": {
      "text/plain": [
       "[[2], [3], [4], [3], [4], [5], [4], [5], [6]]"
      ]
     },
     "execution_count": 134,
     "metadata": {},
     "output_type": "execute_result"
    }
   ],
   "source": [
    "# printing ==> [[2], [3], [4], [3], [4], [5], [4], [5], [6]]\n",
    "\n",
    "num = [2,3,4]\n",
    "\n",
    "[[i + j] for i in num for j in range(3)]"
   ]
  },
  {
   "cell_type": "code",
   "execution_count": 135,
   "metadata": {},
   "outputs": [
    {
     "data": {
      "text/plain": [
       "[[2, 3, 4, 5], [3, 4, 5, 6], [4, 5, 6, 7], [5, 6, 7, 8]]"
      ]
     },
     "execution_count": 135,
     "metadata": {},
     "output_type": "execute_result"
    }
   ],
   "source": [
    "# printing ==> [[2, 3, 4, 5], [3, 4, 5, 6], [4, 5, 6, 7], [5, 6, 7, 8]]\n",
    "\n",
    "num = [2,3,4,5]\n",
    "\n",
    "[[i+j for i in num] for j in range(4)]"
   ]
  },
  {
   "cell_type": "code",
   "execution_count": 136,
   "metadata": {},
   "outputs": [
    {
     "data": {
      "text/plain": [
       "[(1, 1), (2, 1), (3, 1), (1, 2), (2, 2), (3, 2), (1, 3), (2, 3), (3, 3)]"
      ]
     },
     "execution_count": 136,
     "metadata": {},
     "output_type": "execute_result"
    }
   ],
   "source": [
    "# printing ==> [(1, 1), (2, 1), (3, 1), (1, 2), (2, 2), (3, 2), (1, 3), (2, 3), (3, 3)]\n",
    "\n",
    "n = 4\n",
    "\n",
    "[(j,i) for i in range(1,n) for j in range(1,n)]"
   ]
  },
  {
   "cell_type": "code",
   "execution_count": null,
   "metadata": {},
   "outputs": [],
   "source": []
  },
  {
   "cell_type": "markdown",
   "metadata": {},
   "source": [
    "# Task 2 : Problem 1\n",
    "\n",
    "Write a Python Program(with class concepts) to find the area of the triangle using the below\n",
    "formula.\n",
    "\n",
    "area = (s*(s-a)*(s-b)*(s-c)) ** 0.5\n",
    "\n",
    "Function to take the length of the sides of triangle from user should be defined in the parent\n",
    "class and function to calculate the area should be defined in subclass.\n"
   ]
  },
  {
   "cell_type": "code",
   "execution_count": 1,
   "metadata": {},
   "outputs": [],
   "source": [
    "class TriangleDimension:\n",
    "    \"\"\"\n",
    "    This class will have the dimension details for Triangle\n",
    "    The sides of the triangle will get intialized \n",
    "    will calculate the semiperimeter\n",
    "    \"\"\"\n",
    "    \n",
    "    def __init__(self, side_a, side_b, side_c):\n",
    "        '''\n",
    "        Will initialize the side with these values\n",
    "        Please initialize of this object using 3 integer values\n",
    "        '''\n",
    "        self.side_a = side_a\n",
    "        self.side_b = side_b\n",
    "        self.side_c = side_c\n",
    "        \n",
    "    def semi_perimeter(self):\n",
    "        ''' will calculate s = (a+b+c)/2'''\n",
    "        \n",
    "        s = (self.side_a + self.side_b + self.side_c)/2\n",
    "        return s\n",
    "    \n",
    "    \n",
    "class TriangleArea(TriangleDimension):\n",
    "    '''\n",
    "    Class to calculate the area of Triangle\n",
    "    '''\n",
    "    \n",
    "    def __init__(self , *args):\n",
    "        super().__init__(*args)\n",
    "        \n",
    "    def tri_area(self):\n",
    "        # getting semi-perimeter from parent\n",
    "        \n",
    "        s = super().semi_perimeter()\n",
    "        # print(s)\n",
    "        triangle_area = (s* (s - self.side_a)*(s - self.side_b)*(s - self.side_c)) ** 0.5\n",
    "        \n",
    "        return triangle_area\n",
    "    \n",
    "    \n"
   ]
  },
  {
   "cell_type": "code",
   "execution_count": 5,
   "metadata": {},
   "outputs": [
    {
     "name": "stdout",
     "output_type": "stream",
     "text": [
      "The area of the Triangle is 6.0 \n"
     ]
    }
   ],
   "source": [
    "# now will initialize an object for Triangle and then will calculate the area of the same\n",
    "\n",
    "triangle_obj = TriangleArea(3,4,5)\n",
    "area = triangle_obj.tri_area()\n",
    "\n",
    "print(f\"The area of the Triangle is {area} \")"
   ]
  },
  {
   "cell_type": "code",
   "execution_count": 6,
   "metadata": {},
   "outputs": [
    {
     "name": "stdout",
     "output_type": "stream",
     "text": [
      "The area of the Triangle is 72.30793524918272 Unit²\n"
     ]
    }
   ],
   "source": [
    "# doing some farmating of the answer\n",
    "\n",
    "print(f\"The area of the Triangle is {TriangleArea(12,13,14).tri_area()} Unit\\u00b2\")"
   ]
  },
  {
   "cell_type": "markdown",
   "metadata": {},
   "source": [
    "# Task 2 : Problem 2\n",
    "\n",
    "Write a function filter_long_words() that takes a list of words and an integer n and returns the list\n",
    "of words that are longer than n"
   ]
  },
  {
   "cell_type": "code",
   "execution_count": 151,
   "metadata": {},
   "outputs": [],
   "source": [
    "def filter_long_words(words , n):\n",
    "    \"\"\"\n",
    "    This function will find the long words for a given list of the words\n",
    "    Arguments:\n",
    "        words {[list]} -- [for this list only we ave to check for hthe long words]\n",
    "        n {[integer]} -- [this will have the number which decide which all are the long words]\n",
    "    \"\"\"\n",
    "\n",
    "    long_words = []\n",
    "\n",
    "    # will loop thourgh the list_words and then check length of each item\n",
    "    for word in words:\n",
    "        # check the length for the word\n",
    "        if len(word) > n :\n",
    "            long_words.append(word)\n",
    "\n",
    "\n",
    "    return long_words\n"
   ]
  },
  {
   "cell_type": "code",
   "execution_count": 152,
   "metadata": {},
   "outputs": [
    {
     "data": {
      "text/plain": [
       "['abcdefghijklmn', 'abcdefghijklmnopqrs']"
      ]
     },
     "execution_count": 152,
     "metadata": {},
     "output_type": "execute_result"
    }
   ],
   "source": [
    "filter_long_words(['abcde','abcdefgh','abcdefghijklmn','abcdefghijklmnopqrs'], 9)"
   ]
  },
  {
   "cell_type": "code",
   "execution_count": null,
   "metadata": {},
   "outputs": [],
   "source": []
  },
  {
   "cell_type": "markdown",
   "metadata": {},
   "source": [
    "# Task 2 : Problem 3\n",
    "\n",
    "Write a Python program using function concept that maps list of words into a list of integers\n",
    "representing the lengths of the corresponding words.\n",
    "\n",
    "Hint: If a list [ ab,cde,erty] is passed on to the python function output should come as [2,3,4]\n",
    "Here 2,3 and 4 are the lengths of the words in the list."
   ]
  },
  {
   "cell_type": "code",
   "execution_count": 153,
   "metadata": {},
   "outputs": [],
   "source": [
    "def word_num(list_words):\n",
    "    \"\"\"\n",
    "    this will retunr a list with length of the each word\n",
    "    \"\"\"\n",
    "    \n",
    "    # list to be returned with the len(words)\n",
    "    \n",
    "    len_words = []\n",
    "    \n",
    "    # will loop with words:\n",
    "    for word in list_words:\n",
    "        len_words.append(len(word))\n",
    "        \n",
    "    # Now will return the len_words\n",
    "    return len_words\n"
   ]
  },
  {
   "cell_type": "code",
   "execution_count": 154,
   "metadata": {},
   "outputs": [
    {
     "data": {
      "text/plain": [
       "[5, 8, 14, 19]"
      ]
     },
     "execution_count": 154,
     "metadata": {},
     "output_type": "execute_result"
    }
   ],
   "source": [
    "words_list = ['abcde','abcdefgh','abcdefghijklmn','abcdefghijklmnopqrs']\n",
    "\n",
    "word_num(words_list)"
   ]
  },
  {
   "cell_type": "code",
   "execution_count": null,
   "metadata": {},
   "outputs": [],
   "source": [
    " "
   ]
  },
  {
   "cell_type": "markdown",
   "metadata": {},
   "source": [
    "# Task 2 : Problem 4\n",
    "\n",
    "Write a Python function which takes a character (i.e. a string of length 1) and returns True if it is\n",
    "a vowel, False otherwise."
   ]
  },
  {
   "cell_type": "code",
   "execution_count": 155,
   "metadata": {},
   "outputs": [],
   "source": [
    "def vowel_check(char):\n",
    "    \"\"\"\n",
    "    This function will check if the given argumnet is vowel charater\n",
    "    It will return True if so otherwise False\n",
    "    \"\"\"\n",
    "    \n",
    "    char = char.lower()\n",
    "    vowel_string = 'aeiou'\n",
    "    \n",
    "    # will apply the IF condition to test the same\n",
    "    if char in vowel_string:\n",
    "        return True\n",
    "    \n",
    "    return False"
   ]
  },
  {
   "cell_type": "code",
   "execution_count": 156,
   "metadata": {},
   "outputs": [
    {
     "name": "stdout",
     "output_type": "stream",
     "text": [
      "The letter a is a vowel : True\n",
      "The letter d is a vowel : False\n",
      "The letter E is a vowel : True\n",
      "The letter R is a vowel : False\n",
      "The letter I is a vowel : True\n",
      "The letter t is a vowel : False\n",
      "The letter i is a vowel : True\n",
      "The letter o is a vowel : True\n"
     ]
    }
   ],
   "source": [
    "# will test the function\n",
    "\n",
    "test_string = 'adERItio'\n",
    "for char in test_string:\n",
    "    print(\"The letter {} is a vowel : {}\".format(char, vowel_check(char)))"
   ]
  },
  {
   "cell_type": "code",
   "execution_count": null,
   "metadata": {},
   "outputs": [],
   "source": []
  }
 ],
 "metadata": {
  "kernelspec": {
   "display_name": "Python 3",
   "language": "python",
   "name": "python3"
  },
  "language_info": {
   "codemirror_mode": {
    "name": "ipython",
    "version": 3
   },
   "file_extension": ".py",
   "mimetype": "text/x-python",
   "name": "python",
   "nbconvert_exporter": "python",
   "pygments_lexer": "ipython3",
   "version": "3.7.4"
  }
 },
 "nbformat": 4,
 "nbformat_minor": 2
}
